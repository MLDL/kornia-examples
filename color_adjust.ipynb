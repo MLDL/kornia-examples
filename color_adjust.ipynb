{
  "nbformat": 4,
  "nbformat_minor": 0,
  "metadata": {
    "colab": {
      "name": "color_adjust.ipynb",
      "provenance": [],
      "toc_visible": true,
      "include_colab_link": true
    },
    "kernelspec": {
      "name": "python3",
      "display_name": "Python 3"
    }
  },
  "cells": [
    {
      "cell_type": "markdown",
      "metadata": {
        "id": "view-in-github",
        "colab_type": "text"
      },
      "source": [
        "<a href=\"https://colab.research.google.com/github/priba/kornia-examples/blob/master/color_adjust.ipynb\" target=\"_parent\"><img src=\"https://colab.research.google.com/assets/colab-badge.svg\" alt=\"Open In Colab\"/></a>"
      ]
    },
    {
      "cell_type": "markdown",
      "metadata": {
        "id": "NDxH18pWJBLw",
        "colab_type": "text"
      },
      "source": [
        "# Color adjustment\n",
        "\n",
        "In this tutorial we are goin to learn how to adjust the color in image batches."
      ]
    },
    {
      "cell_type": "markdown",
      "metadata": {
        "id": "Ul_eVqEjBrS1",
        "colab_type": "text"
      },
      "source": [
        "## Install Kornia"
      ]
    },
    {
      "cell_type": "code",
      "metadata": {
        "id": "Ne58qk8xKmyY",
        "colab_type": "code",
        "colab": {}
      },
      "source": [
        "!pip install git+https://github.com/arraiyopensource/kornia\n",
        "\n",
        "import kornia\n",
        "print(f\"Kornia version: {kornia.__version__}\")"
      ],
      "execution_count": 0,
      "outputs": []
    },
    {
      "cell_type": "markdown",
      "metadata": {
        "id": "zs0bR1gxCsyo",
        "colab_type": "text"
      },
      "source": [
        "## Prepare the data\n",
        "\n",
        "Download an example image"
      ]
    },
    {
      "cell_type": "code",
      "metadata": {
        "id": "4IJTsAaVCxtw",
        "colab_type": "code",
        "colab": {}
      },
      "source": [
        "!wget https://raw.githubusercontent.com/kornia/kornia/master/examples/data/ninja_turtles.jpg"
      ],
      "execution_count": 0,
      "outputs": []
    },
    {
      "cell_type": "markdown",
      "metadata": {
        "id": "5NtCwUsfGdul",
        "colab_type": "text"
      },
      "source": [
        "Load the image using OpenCV and plot it\n"
      ]
    },
    {
      "cell_type": "code",
      "metadata": {
        "id": "HH5oNwRGD0gc",
        "colab_type": "code",
        "colab": {}
      },
      "source": [
        "from matplotlib import pyplot as plt\n",
        "import cv2\n",
        "import numpy as np\n",
        "\n",
        "# load using opencv and convert to RGB\n",
        "img_bgr: np.array = cv2.imread('ninja_turtles.jpg', cv2.IMREAD_COLOR)\n",
        "img_rgb: np.array = cv2.cvtColor(img_bgr, cv2.COLOR_BGR2RGB)\n",
        "plt.imshow(img_rgb); plt.axis('off');"
      ],
      "execution_count": 0,
      "outputs": []
    },
    {
      "cell_type": "markdown",
      "metadata": {
        "id": "fhZ3wBT2GqoC",
        "colab_type": "text"
      },
      "source": [
        "Create a batch of 4 identical images and normalize it between [0,1]"
      ]
    },
    {
      "cell_type": "code",
      "metadata": {
        "id": "XC2NXlHRNS8C",
        "colab_type": "code",
        "colab": {}
      },
      "source": [
        "import torch\n",
        "import torchvision\n",
        "\n",
        "def imshow(input: torch.Tensor):\n",
        "    out: torch.Tensor = torchvision.utils.make_grid(input, nrow=2, padding=5)\n",
        "    out_np: np.array = kornia.tensor_to_image(out)\n",
        "    plt.imshow(out_np); plt.axis('off');\n",
        "\n",
        "# stack four identical images\n",
        "data: torch.Tensor = kornia.image_to_tensor(img_rgb)  # 1xCxHxW\n",
        "data = data.expand(4, -1, -1, -1)  # 4xCxHxW\n",
        "\n",
        "# normalize\n",
        "data = kornia.normalize(data.float(), torch.zeros(3), 255. * torch.ones(3))\n",
        "\n",
        "# plot\n",
        "imshow(data)"
      ],
      "execution_count": 0,
      "outputs": []
    },
    {
      "cell_type": "markdown",
      "metadata": {
        "id": "es_mRK8kOkv5",
        "colab_type": "text"
      },
      "source": [
        "## Perform the color adjustments\n",
        "\n",
        "### Brightness"
      ]
    },
    {
      "cell_type": "code",
      "metadata": {
        "id": "9_VPhadlOxJ3",
        "colab_type": "code",
        "colab": {}
      },
      "source": [
        "# Brightness\n",
        "x_brightness: torch.Tensor = kornia.adjust_brightness(data, torch.Tensor([0, -0.5, 0.5, 1]))\n",
        "imshow(x_brightness)"
      ],
      "execution_count": 0,
      "outputs": []
    },
    {
      "cell_type": "markdown",
      "metadata": {
        "id": "6EE2Ux-iHPzH",
        "colab_type": "text"
      },
      "source": [
        "### Contrast"
      ]
    },
    {
      "cell_type": "code",
      "metadata": {
        "id": "NgkNttFKPZ1X",
        "colab_type": "code",
        "colab": {}
      },
      "source": [
        "# Contrast\n",
        "x_contrast: torch.Tensor = kornia.adjust_contrast(data, torch.Tensor([0, 0.5, 1, 1.5]))\n",
        "imshow(x_contrast)"
      ],
      "execution_count": 0,
      "outputs": []
    },
    {
      "cell_type": "markdown",
      "metadata": {
        "id": "xZ_3XQwyHSm-",
        "colab_type": "text"
      },
      "source": [
        "### Gamma"
      ]
    },
    {
      "cell_type": "code",
      "metadata": {
        "id": "KhMgcrJQPuLs",
        "colab_type": "code",
        "colab": {}
      },
      "source": [
        "# Gamma\n",
        "x_gamma: torch.Tensor = kornia.adjust_gamma(data, gamma=torch.Tensor([0, 0.5, 1, 1.5]), gain=1.5)\n",
        "imshow(x_gamma)"
      ],
      "execution_count": 0,
      "outputs": []
    },
    {
      "cell_type": "markdown",
      "metadata": {
        "id": "WcECjB4DHX-U",
        "colab_type": "text"
      },
      "source": [
        "### Saturation"
      ]
    },
    {
      "cell_type": "code",
      "metadata": {
        "id": "akAEI2iuQUGt",
        "colab_type": "code",
        "colab": {}
      },
      "source": [
        "# Saturation\n",
        "x_saturated: torch.Tensor = kornia.adjust_saturation(data, torch.Tensor([0, 0.5, 1, 1.5]))\n",
        "imshow(x_saturated)"
      ],
      "execution_count": 0,
      "outputs": []
    },
    {
      "cell_type": "markdown",
      "metadata": {
        "id": "FDsT-JAcHasb",
        "colab_type": "text"
      },
      "source": [
        "### Hue"
      ]
    },
    {
      "cell_type": "code",
      "metadata": {
        "id": "ZEECh2DhfY32",
        "colab_type": "code",
        "colab": {}
      },
      "source": [
        "# Hue\n",
        "x_hue: torch.Tensor = kornia.adjust_hue(data, torch.Tensor([0, 0.5, -0.5, kornia.pi]))\n",
        "imshow(x_hue)"
      ],
      "execution_count": 0,
      "outputs": []
    }
  ]
}